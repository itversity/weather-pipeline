{
 "cells": [
  {
   "cell_type": "code",
   "execution_count": 1,
   "metadata": {},
   "outputs": [
    {
     "name": "stdout",
     "output_type": "stream",
     "text": [
      "Hello\n"
     ]
    }
   ],
   "source": [
    "print(\"Hello\")"
   ]
  },
  {
   "cell_type": "code",
   "execution_count": 10,
   "metadata": {},
   "outputs": [
    {
     "name": "stdout",
     "output_type": "stream",
     "text": [
      "{'_id': ObjectId('6763e96a5ad99fbaa2a5e205'), 'first_name': 'Abhinav', 'last_name': 'Sai', 'email_id': 'sai@gmail.com'}\n"
     ]
    }
   ],
   "source": [
    "import pymongo\n",
    "\n",
    "#Connect to MongoDB\n",
    "client =  pymongo.MongoClient(\"mongodb://localhost:27017/\")\n",
    "\n",
    "#Access the database\n",
    "\n",
    "db = client[\"demo\"]\n",
    "\n",
    "#Access the collection\n",
    "\n",
    "collection = db[\"users\"]\n",
    "\n",
    "#Query data from the collection\n",
    "query= {} # You can specify a query filter here\n",
    "result = collection.find(query)\n",
    "\n",
    "#Print the query results\n",
    "for document in result:\n",
    " print(document)"
   ]
  },
  {
   "cell_type": "code",
   "execution_count": 11,
   "metadata": {},
   "outputs": [],
   "source": [
    "city_coordinates = [\n",
    "\n",
    "{\"city\": \"Delhi\", \"latitude\": 28.7041, \"longitude\": 77.1025}, \n",
    "{\"city\":\"Dubai\", \"latitude\": 25.2048, \"longitude\": 55.2708},\n",
    "{\"city\":\"Dallas\",\"latitude\":32.7767,\"longitude\": -96.7970},\n",
    "{\"city\":\"Sydney\",\"latitude\": -33.8688,\"longitude\":151.2093},\n",
    "{\"city\":\"London\",\"latitude\": 51.5074,\"longitude\": -0.1278},\n",
    "{\"city\": \"Johannesburg\", \"latitude\": -26.2041, \"longitude\": 28.0473}\n",
    "]"
   ]
  },
  {
   "cell_type": "code",
   "execution_count": 12,
   "metadata": {},
   "outputs": [
    {
     "name": "stdout",
     "output_type": "stream",
     "text": [
      "{'_id': ObjectId('67644b10f126522ee1da1fd7'), 'city': 'Delhi', 'latitude': 28.7041, 'longitude': 77.1025}\n",
      "{'_id': ObjectId('67644b10f126522ee1da1fd8'), 'city': 'Dubai', 'latitude': 25.2048, 'longitude': 55.2708}\n",
      "{'_id': ObjectId('67644b10f126522ee1da1fd9'), 'city': 'Dallas', 'latitude': 32.7767, 'longitude': -96.797}\n",
      "{'_id': ObjectId('67644b10f126522ee1da1fda'), 'city': 'Sydney', 'latitude': -33.8688, 'longitude': 151.2093}\n",
      "{'_id': ObjectId('67644b10f126522ee1da1fdb'), 'city': 'London', 'latitude': 51.5074, 'longitude': -0.1278}\n",
      "{'_id': ObjectId('67644b10f126522ee1da1fdc'), 'city': 'Johannesburg', 'latitude': -26.2041, 'longitude': 28.0473}\n"
     ]
    }
   ],
   "source": [
    "import pymongo\n",
    "\n",
    "#Connect to MongoDB\n",
    "client =  pymongo.MongoClient(\"mongodb://localhost:27017/\")\n",
    "\n",
    "#Access the database\n",
    "db = client[\"weather_db\"]\n",
    "\n",
    "#Access the collection\n",
    "collection = db[\"city_coordinates\"]\n",
    "\n",
    "# Insert the data into the collection\n",
    "collection.insert_many(city_coordinates)\n",
    "\n",
    "#Print the query results\n",
    "for document in collection.find():\n",
    " print(document)"
   ]
  },
  {
   "cell_type": "code",
   "execution_count": null,
   "metadata": {},
   "outputs": [],
   "source": []
  }
 ],
 "metadata": {
  "kernelspec": {
   "display_name": "wp-venv",
   "language": "python",
   "name": "python3"
  },
  "language_info": {
   "codemirror_mode": {
    "name": "ipython",
    "version": 3
   },
   "file_extension": ".py",
   "mimetype": "text/x-python",
   "name": "python",
   "nbconvert_exporter": "python",
   "pygments_lexer": "ipython3",
   "version": "3.12.8"
  }
 },
 "nbformat": 4,
 "nbformat_minor": 2
}
